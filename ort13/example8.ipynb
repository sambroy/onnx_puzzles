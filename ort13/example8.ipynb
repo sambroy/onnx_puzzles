{
 "cells": [
  {
   "cell_type": "markdown",
   "metadata": {},
   "source": [
    "### Example 8: conditionals -- progressive evaluation.\n",
    "In this, we have an array `x` and based on the value of `x[0]` we will take a decision about\n",
    "`x[1]`.\n",
    "\n",
    "Say, we want to replicate the control flow \n",
    "```python\n",
    "if x[0] > 0:\n",
    "    return x[1]\n",
    "else:\n",
    "    return x[2]\n",
    "```\n",
    "\n",
    "Note that this will also let us handle control flows of the form \n",
    "```python\n",
    "if f(x[:k]) > 0:\n",
    "    do something with x[k:]\n",
    "else:\n",
    "    do something else\n",
    "```\n",
    "\n",
    "Here, the trick will be simple and motivated by the examples before. \n",
    "1. We will have two possible outputs, one if `x[0] > 0` and the other if not.\n",
    "2. We will choose between the two based on the `mask` that we create (based on `x[0]`)."
   ]
  },
  {
   "cell_type": "code",
   "execution_count": 1,
   "metadata": {},
   "outputs": [],
   "source": [
    "onnx_model = \"example8.onnx\""
   ]
  },
  {
   "cell_type": "code",
   "execution_count": 2,
   "metadata": {},
   "outputs": [],
   "source": [
    "import torch\n",
    "import torch.nn as nn\n",
    "import numpy as np"
   ]
  },
  {
   "cell_type": "code",
   "execution_count": 3,
   "metadata": {},
   "outputs": [],
   "source": [
    "class SampleNet(nn.Module):\n",
    "    def __init__(self):\n",
    "        super(SampleNet, self).__init__()\n",
    "        self.m = 1\n",
    "        self.c = 0\n",
    "    \n",
    "    def forward(self, x):\n",
    "        b = torch.max(x)\n",
    "        output1 = x[1]\n",
    "        output2 = x[2]\n",
    "        mask = x.gt(0).type(torch.int64) \n",
    "        out = mask[0]*output1 + (1 - mask[0])*output2\n",
    "        return self.m * out + self.c"
   ]
  },
  {
   "cell_type": "code",
   "execution_count": 4,
   "metadata": {},
   "outputs": [
    {
     "data": {
      "text/plain": [
       "SampleNet()"
      ]
     },
     "execution_count": 4,
     "metadata": {},
     "output_type": "execute_result"
    }
   ],
   "source": [
    "model = SampleNet()\n",
    "model.eval()"
   ]
  },
  {
   "cell_type": "code",
   "execution_count": 5,
   "metadata": {},
   "outputs": [],
   "source": [
    "# the warmup stage\n",
    "x = torch.LongTensor([-1, 2, 3, 4])\n",
    "out = model(x)"
   ]
  },
  {
   "cell_type": "code",
   "execution_count": 6,
   "metadata": {},
   "outputs": [
    {
     "data": {
      "text/plain": [
       "tensor(3)"
      ]
     },
     "execution_count": 6,
     "metadata": {},
     "output_type": "execute_result"
    }
   ],
   "source": [
    "out"
   ]
  },
  {
   "cell_type": "code",
   "execution_count": 7,
   "metadata": {},
   "outputs": [
    {
     "name": "stdout",
     "output_type": "stream",
     "text": [
      "graph(%input : Long(4:1)):\n",
      "  %1 : Long() = onnx::Constant[value={1}]()\n",
      "  %2 : Long() = onnx::Gather[axis=0](%input, %1) # <ipython-input-3-de647dced85d>:9:0\n",
      "  %3 : Long() = onnx::Constant[value={2}]()\n",
      "  %4 : Long() = onnx::Gather[axis=0](%input, %3) # <ipython-input-3-de647dced85d>:10:0\n",
      "  %5 : Long() = onnx::Constant[value={0}]()\n",
      "  %6 : Bool(4:1) = onnx::Greater(%input, %5) # <ipython-input-3-de647dced85d>:11:0\n",
      "  %7 : Long(4:1) = onnx::Cast[to=7](%6) # <ipython-input-3-de647dced85d>:11:0\n",
      "  %8 : Long() = onnx::Constant[value={0}]()\n",
      "  %9 : Long() = onnx::Gather[axis=0](%7, %8) # <ipython-input-3-de647dced85d>:12:0\n",
      "  %10 : Long() = onnx::Mul(%9, %2) # <ipython-input-3-de647dced85d>:12:0\n",
      "  %11 : Long() = onnx::Constant[value={0}]()\n",
      "  %12 : Long() = onnx::Gather[axis=0](%7, %11) # <ipython-input-3-de647dced85d>:12:0\n",
      "  %13 : Long() = onnx::Constant[value={1}]()\n",
      "  %14 : Long() = onnx::Sub(%13, %12) # C:\\Users\\sambroy\\AppData\\Local\\Continuum\\anaconda3\\envs\\pt16\\lib\\site-packages\\torch\\tensor.py:396:0\n",
      "  %15 : Long() = onnx::Mul(%14, %4) # <ipython-input-3-de647dced85d>:12:0\n",
      "  %16 : Long() = onnx::Add(%10, %15) # <ipython-input-3-de647dced85d>:12:0\n",
      "  %17 : Long() = onnx::Constant[value={1}]()\n",
      "  %18 : Long() = onnx::Mul(%16, %17)\n",
      "  %19 : Long() = onnx::Constant[value={0}]()\n",
      "  %output : Long() = onnx::Add(%18, %19)\n",
      "  return (%output)\n",
      "\n"
     ]
    }
   ],
   "source": [
    "torch.onnx.export(\n",
    "model,\n",
    "x,  # warming up the model\n",
    "onnx_model,\n",
    "opset_version=11,\n",
    "do_constant_folding=True,\n",
    "input_names=['input'],\n",
    "output_names=['output'], \n",
    "verbose=True)"
   ]
  },
  {
   "cell_type": "code",
   "execution_count": 8,
   "metadata": {},
   "outputs": [
    {
     "name": "stdout",
     "output_type": "stream",
     "text": [
      "Serving 'example8.onnx' at http://localhost:8086\n"
     ]
    }
   ],
   "source": [
    "# uncomment to install netron.\n",
    "#!pip install netron\n",
    "import netron\n",
    "netron.start(onnx_model, port=8086)"
   ]
  },
  {
   "cell_type": "markdown",
   "metadata": {},
   "source": [
    "### use the onnx model"
   ]
  },
  {
   "cell_type": "code",
   "execution_count": 9,
   "metadata": {},
   "outputs": [],
   "source": [
    "import onnxruntime as ort\n",
    "import numpy as np\n",
    "sess = ort.InferenceSession(onnx_model)"
   ]
  },
  {
   "cell_type": "code",
   "execution_count": 10,
   "metadata": {},
   "outputs": [
    {
     "data": {
      "text/plain": [
       "'input'"
      ]
     },
     "execution_count": 10,
     "metadata": {},
     "output_type": "execute_result"
    }
   ],
   "source": [
    "sess.get_inputs()[0].name"
   ]
  },
  {
   "cell_type": "code",
   "execution_count": 11,
   "metadata": {},
   "outputs": [
    {
     "name": "stdout",
     "output_type": "stream",
     "text": [
      "[array(-22, dtype=int64)]\n"
     ]
    }
   ],
   "source": [
    "# check out the signature of sess.run - it has to have the output, then something like a feed_dict.\n",
    "\n",
    "# either pass the feed dict directly.\n",
    "# passing an array of any other size will result in an error.\n",
    "outs = sess.run(['output'],\n",
    "                       {\n",
    "                         'input': np.array([22, -22, 22, 12], dtype=np.int64)  \n",
    "                       })\n",
    "\n",
    "print(outs) "
   ]
  },
  {
   "cell_type": "markdown",
   "metadata": {},
   "source": [
    "### Comments\n",
    "While this works, this is not really what we wanted. Here, we evaluate `x[1]` and `x[2]` regardless of the \n",
    "value of `x[0]`. Can we avoid one of these steps?"
   ]
  },
  {
   "cell_type": "code",
   "execution_count": null,
   "metadata": {},
   "outputs": [],
   "source": []
  }
 ],
 "metadata": {
  "kernelspec": {
   "display_name": "Python 3",
   "language": "python",
   "name": "python3"
  },
  "language_info": {
   "codemirror_mode": {
    "name": "ipython",
    "version": 3
   },
   "file_extension": ".py",
   "mimetype": "text/x-python",
   "name": "python",
   "nbconvert_exporter": "python",
   "pygments_lexer": "ipython3",
   "version": "3.6.8"
  }
 },
 "nbformat": 4,
 "nbformat_minor": 4
}
