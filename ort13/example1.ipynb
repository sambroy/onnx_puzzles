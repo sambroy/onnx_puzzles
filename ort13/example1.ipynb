{
 "cells": [
  {
   "cell_type": "markdown",
   "metadata": {},
   "source": [
    "### Example 1: a basic pytorch model."
   ]
  },
  {
   "cell_type": "code",
   "execution_count": 1,
   "metadata": {},
   "outputs": [],
   "source": [
    "onnx_model = \"example1.onnx\""
   ]
  },
  {
   "cell_type": "code",
   "execution_count": 2,
   "metadata": {},
   "outputs": [],
   "source": [
    "import torch\n",
    "import torch.nn as nn"
   ]
  },
  {
   "cell_type": "code",
   "execution_count": 3,
   "metadata": {},
   "outputs": [],
   "source": [
    "class SampleNet(nn.Module):\n",
    "    def __init__(self):\n",
    "        super(SampleNet, self).__init__()\n",
    "        self.m = 10\n",
    "        self.c = 20\n",
    "    \n",
    "    def forward(self, x):\n",
    "        return self.m * x + self.c"
   ]
  },
  {
   "cell_type": "code",
   "execution_count": 4,
   "metadata": {},
   "outputs": [
    {
     "data": {
      "text/plain": [
       "SampleNet()"
      ]
     },
     "execution_count": 4,
     "metadata": {},
     "output_type": "execute_result"
    }
   ],
   "source": [
    "model = SampleNet()\n",
    "model.eval()"
   ]
  },
  {
   "cell_type": "code",
   "execution_count": 5,
   "metadata": {},
   "outputs": [],
   "source": [
    "x = torch.LongTensor([1])\n",
    "out = model(x)"
   ]
  },
  {
   "cell_type": "code",
   "execution_count": 6,
   "metadata": {},
   "outputs": [
    {
     "data": {
      "text/plain": [
       "tensor([30])"
      ]
     },
     "execution_count": 6,
     "metadata": {},
     "output_type": "execute_result"
    }
   ],
   "source": [
    "out"
   ]
  },
  {
   "cell_type": "code",
   "execution_count": 7,
   "metadata": {},
   "outputs": [],
   "source": [
    "torch.onnx.export(\n",
    "model,\n",
    "x,\n",
    "onnx_model,\n",
    "opset_version=11,\n",
    "do_constant_folding=True,\n",
    "input_names=['input'],\n",
    "output_names=['output'])"
   ]
  },
  {
   "cell_type": "code",
   "execution_count": 8,
   "metadata": {},
   "outputs": [
    {
     "name": "stdout",
     "output_type": "stream",
     "text": [
      "Collecting netron\n",
      "  Downloading netron-4.1.9-py2.py3-none-any.whl (1.4 MB)\n",
      "\u001b[K     |████████████████████████████████| 1.4 MB 1.6 MB/s eta 0:00:01\n",
      "\u001b[?25hInstalling collected packages: netron\n",
      "Successfully installed netron-4.1.9\n"
     ]
    }
   ],
   "source": [
    "!pip install netron"
   ]
  },
  {
   "cell_type": "code",
   "execution_count": 9,
   "metadata": {},
   "outputs": [
    {
     "name": "stdout",
     "output_type": "stream",
     "text": [
      "Serving 'example1.onnx' at http://localhost:8080\n"
     ]
    }
   ],
   "source": [
    "import netron\n",
    "netron.start(onnx_model, port=8080)"
   ]
  },
  {
   "cell_type": "markdown",
   "metadata": {},
   "source": [
    "### use the onnx model"
   ]
  },
  {
   "cell_type": "code",
   "execution_count": 10,
   "metadata": {},
   "outputs": [],
   "source": [
    "import onnxruntime as ort\n",
    "import numpy as np\n",
    "sess = ort.InferenceSession(onnx_model)"
   ]
  },
  {
   "cell_type": "code",
   "execution_count": 11,
   "metadata": {},
   "outputs": [
    {
     "data": {
      "text/plain": [
       "'input'"
      ]
     },
     "execution_count": 11,
     "metadata": {},
     "output_type": "execute_result"
    }
   ],
   "source": [
    "sess.get_inputs()[0].name"
   ]
  },
  {
   "cell_type": "code",
   "execution_count": 12,
   "metadata": {},
   "outputs": [
    {
     "name": "stdout",
     "output_type": "stream",
     "text": [
      "[array([250], dtype=int64)]\n"
     ]
    }
   ],
   "source": [
    "# check out the signature of sess.run - it has to have the output, then something like a feed_dict.\n",
    "\n",
    "# either pass the feed dict directly\n",
    "outs = sess.run(['output'],\n",
    "                       {\n",
    "                         'input': np.array([23], dtype=np.int64)  \n",
    "                       })\n",
    "\n",
    "print(outs)"
   ]
  },
  {
   "cell_type": "code",
   "execution_count": 13,
   "metadata": {},
   "outputs": [
    {
     "name": "stdout",
     "output_type": "stream",
     "text": [
      "[array([60], dtype=int64)]\n"
     ]
    }
   ],
   "source": [
    "# or, prepare it first and then pass it in.\n",
    "\n",
    "inputs = {'input': np.array([4], dtype=np.int64)}\n",
    "\n",
    "outs = sess.run(['output'],\n",
    "                       inputs)\n",
    "\n",
    "print(outs)"
   ]
  },
  {
   "cell_type": "code",
   "execution_count": null,
   "metadata": {},
   "outputs": [],
   "source": []
  },
  {
   "cell_type": "code",
   "execution_count": null,
   "metadata": {},
   "outputs": [],
   "source": []
  }
 ],
 "metadata": {
  "kernelspec": {
   "display_name": "Python 3",
   "language": "python",
   "name": "python3"
  },
  "language_info": {
   "codemirror_mode": {
    "name": "ipython",
    "version": 3
   },
   "file_extension": ".py",
   "mimetype": "text/x-python",
   "name": "python",
   "nbconvert_exporter": "python",
   "pygments_lexer": "ipython3",
   "version": "3.6.10"
  }
 },
 "nbformat": 4,
 "nbformat_minor": 4
}
