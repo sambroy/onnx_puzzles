{
 "cells": [
  {
   "cell_type": "markdown",
   "metadata": {},
   "source": [
    "### Example 7: conditionals.\n",
    "This is a modification of `Example 6`. \n",
    "\n",
    "The setup is the same as that of `Example 6`, but here we will consider all the indices in the array instead of just one:\n",
    "1. return `1` if `x[i] >= 0` for _all_ `i`.\n",
    "2. return `1` if `x[i] > 0` for _all_ `i`.\n",
    "\n",
    "\n",
    "As in the previous solution, we will maintain the `mask` array, and we will sum it up. If the sum \n",
    "reaches the size of the array, then all the values in the array are indeed `>=0`.\n",
    "The solution for part (2) is similar."
   ]
  },
  {
   "cell_type": "code",
   "execution_count": 1,
   "metadata": {},
   "outputs": [],
   "source": [
    "onnx_model = \"example7.onnx\""
   ]
  },
  {
   "cell_type": "code",
   "execution_count": 2,
   "metadata": {},
   "outputs": [],
   "source": [
    "import torch\n",
    "import torch.nn as nn\n",
    "import numpy as np"
   ]
  },
  {
   "cell_type": "code",
   "execution_count": 3,
   "metadata": {},
   "outputs": [],
   "source": [
    "class SampleNet(nn.Module):\n",
    "    def __init__(self):\n",
    "        super(SampleNet, self).__init__()\n",
    "        self.m = 1\n",
    "        self.c = 0\n",
    "    \n",
    "    def forward(self, x):\n",
    "        b = torch.max(x)\n",
    "        mask = x.ge(0).type(torch.int64)\n",
    "        flag = mask.sum().eq(x.size(0)).type(torch.int64)\n",
    "        return self.m * flag + self.c"
   ]
  },
  {
   "cell_type": "code",
   "execution_count": 4,
   "metadata": {},
   "outputs": [
    {
     "data": {
      "text/plain": [
       "SampleNet()"
      ]
     },
     "execution_count": 4,
     "metadata": {},
     "output_type": "execute_result"
    }
   ],
   "source": [
    "model = SampleNet()\n",
    "model.eval()"
   ]
  },
  {
   "cell_type": "code",
   "execution_count": 5,
   "metadata": {},
   "outputs": [],
   "source": [
    "# the warmup stage\n",
    "x = torch.LongTensor([1, 2, 3, 4])\n",
    "out = model(x)"
   ]
  },
  {
   "cell_type": "code",
   "execution_count": 6,
   "metadata": {},
   "outputs": [
    {
     "data": {
      "text/plain": [
       "tensor(1)"
      ]
     },
     "execution_count": 6,
     "metadata": {},
     "output_type": "execute_result"
    }
   ],
   "source": [
    "out"
   ]
  },
  {
   "cell_type": "code",
   "execution_count": 9,
   "metadata": {},
   "outputs": [
    {
     "name": "stdout",
     "output_type": "stream",
     "text": [
      "graph(%input : Long(4:1)):\n",
      "  %1 : Long() = onnx::Constant[value={0}]()\n",
      "  %2 : Tensor = onnx::Less(%input, %1)\n",
      "  %3 : Bool(4:1) = onnx::Not(%2) # <ipython-input-3-c9b0d20f8881>:9:0\n",
      "  %4 : Long(4:1) = onnx::Cast[to=7](%3) # <ipython-input-3-c9b0d20f8881>:9:0\n",
      "  %5 : Long() = onnx::ReduceSum[keepdims=0](%4) # <ipython-input-3-c9b0d20f8881>:10:0\n",
      "  %6 : Tensor = onnx::Shape(%input)\n",
      "  %7 : Tensor = onnx::Constant[value={0}]()\n",
      "  %8 : Long() = onnx::Gather[axis=0](%6, %7) # <ipython-input-3-c9b0d20f8881>:10:0\n",
      "  %9 : Bool() = onnx::Equal(%5, %8) # <ipython-input-3-c9b0d20f8881>:10:0\n",
      "  %10 : Long() = onnx::Cast[to=7](%9) # <ipython-input-3-c9b0d20f8881>:10:0\n",
      "  %11 : Long() = onnx::Constant[value={1}]()\n",
      "  %12 : Long() = onnx::Mul(%10, %11)\n",
      "  %13 : Long() = onnx::Constant[value={0}]()\n",
      "  %output : Long() = onnx::Add(%12, %13)\n",
      "  return (%output)\n",
      "\n"
     ]
    }
   ],
   "source": [
    "torch.onnx.export(\n",
    "model,\n",
    "x,  # warming up the model\n",
    "onnx_model,\n",
    "opset_version=11,\n",
    "do_constant_folding=True,\n",
    "input_names=['input'],\n",
    "output_names=['output'], \n",
    "verbose=True)"
   ]
  },
  {
   "cell_type": "code",
   "execution_count": 8,
   "metadata": {},
   "outputs": [
    {
     "name": "stdout",
     "output_type": "stream",
     "text": [
      "Serving 'example7.onnx' at http://localhost:8085\n"
     ]
    }
   ],
   "source": [
    "# uncomment to install netron.\n",
    "#!pip install netron\n",
    "import netron\n",
    "netron.start(onnx_model, port=8085)"
   ]
  },
  {
   "cell_type": "markdown",
   "metadata": {},
   "source": [
    "### use the onnx model"
   ]
  },
  {
   "cell_type": "code",
   "execution_count": 9,
   "metadata": {},
   "outputs": [],
   "source": [
    "import onnxruntime as ort\n",
    "import numpy as np\n",
    "sess = ort.InferenceSession(onnx_model)"
   ]
  },
  {
   "cell_type": "code",
   "execution_count": 10,
   "metadata": {},
   "outputs": [
    {
     "data": {
      "text/plain": [
       "'input'"
      ]
     },
     "execution_count": 10,
     "metadata": {},
     "output_type": "execute_result"
    }
   ],
   "source": [
    "sess.get_inputs()[0].name"
   ]
  },
  {
   "cell_type": "code",
   "execution_count": 11,
   "metadata": {},
   "outputs": [
    {
     "name": "stdout",
     "output_type": "stream",
     "text": [
      "[array(0, dtype=int64)]\n"
     ]
    }
   ],
   "source": [
    "# check out the signature of sess.run - it has to have the output, then something like a feed_dict.\n",
    "\n",
    "# either pass the feed dict directly.\n",
    "# passing an array of any other size will result in an error.\n",
    "outs = sess.run(['output'],\n",
    "                       {\n",
    "                         'input': np.array([22, -22, 22, 12], dtype=np.int64)  \n",
    "                       })\n",
    "\n",
    "print(outs) "
   ]
  },
  {
   "cell_type": "code",
   "execution_count": null,
   "metadata": {},
   "outputs": [],
   "source": []
  },
  {
   "cell_type": "code",
   "execution_count": null,
   "metadata": {},
   "outputs": [],
   "source": []
  }
 ],
 "metadata": {
  "kernelspec": {
   "display_name": "Python 3",
   "language": "python",
   "name": "python3"
  },
  "language_info": {
   "codemirror_mode": {
    "name": "ipython",
    "version": 3
   },
   "file_extension": ".py",
   "mimetype": "text/x-python",
   "name": "python",
   "nbconvert_exporter": "python",
   "pygments_lexer": "ipython3",
   "version": "3.6.8"
  }
 },
 "nbformat": 4,
 "nbformat_minor": 4
}
